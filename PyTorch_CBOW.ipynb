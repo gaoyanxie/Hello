{
 "cells": [
  {
   "cell_type": "markdown",
   "metadata": {},
   "source": [
    "CBOW Embedding"
   ]
  },
  {
   "cell_type": "code",
   "execution_count": 2,
   "metadata": {},
   "outputs": [],
   "source": [
    "import torch\n",
    "import torch.nn as nn\n",
    "\n",
    "def make_context_vector(context, word_to_ix):\n",
    "    idxs = [word_to_ix[w] for w in context]\n",
    "    return torch.tensor(idxs, dtype=torch.long)"
   ]
  },
  {
   "cell_type": "code",
   "execution_count": 19,
   "metadata": {},
   "outputs": [],
   "source": [
    "CONTEXT_SIZE = 2  # 2 words to the left, 2 to the right\n",
    "EMDEDDING_DIM = 100\n",
    "\n",
    "raw_text = \"\"\"eaders of the global South have long accused Western countries of hypocrisy, and their complaints seem to grow louder by the day. These leaders feel emboldened to challenge Western dominance because they see the world becoming increasingly multipolar. The trend has not been lost on China and Russia, which go to great lengths to fuel resentment against the U.S.-led order.\n",
    "\n",
    "Charges of hypocrisy against the West are often accurate and fair. Hypocrisy occurs when political leaders conduct foreign policy in ways that are inconsistent with their rhetorical claims of moral virtue, passing over alternative policies that correspond to their stated beliefs. Consider the invasion of Iraq by the United States two decades ago. Washington sold the invasion to the public as virtuous—a way to bolster democracy, human rights, and the rules-based order. The United States could have dealt with the Iraqi leader Saddam Hussein in accordance with the principles of the liberal international order by, for example, securing authorization for the invasion from the UN Security Council. Had Washington pursued other options, it would not have caused so much carnage in Iraq and destabilized the country and the broader region. And the United States would have avoided the charge of hypocrisy that has tainted U.S. foreign policy ever since.\n",
    "\n",
    "But looked at another way, such accusations of hypocrisy are a testament to the uniqueness of U.S. power. Critics accuse the United States of being hypocritical more than any other country in the West. This is not the result of a flaw in the United States’ character but because of the nature of U.S. power. The United States has built its authority by delivering global public goods through universal institutions. It helps achieve peace and security through the United Nations, free trade through the World Trade Organization, development through the World Bank, and financial assistance through the International Monetary Fund. More than any other country, the United States makes ambitious claims about the general good of its actions. Washington is so often hypocritical because it couches its foreign policy in a language of moral virtue.   \n",
    "\n",
    "Stay informed.\n",
    "In-depth analysis delivered weekly.\n",
    "TWO FACED, TOO FURIOUS\n",
    "When Western foreign policy is widely perceived as hypocritical, the U.S.-led order becomes costlier to sustain. Policy that is perceived as deceitful undermines the legitimacy of the rules and institutions that underpin it. If the order lacks legitimacy, the United States needs to rely on coercion rather than acceptance, as it can no longer expect the deference of others. Its foreign policy becomes more violent and intolerant of critics, eroding the liberal features that have been prominent in the practice of U.S. power.\n",
    "\n",
    "Countries that see Western policy as hypocritical may question whether Western officials will act in good faith and in the best interests of their allies. In such circumstances, they may forgo cooperating with the West even when it would have otherwise been beneficial. Take the lukewarm response across the global South to the Biden administration’s Summit for Democracy: U.S. support for autocrats, including those leading Egypt, Saudi Arabia, Singapore, and Vietnam, makes many countries skeptical of a U.S.-led initiative on democracy.\n",
    "\n",
    "Hypocrisy can also trigger moral outrage. Many people consider hypocrisy to be worse than lying. Whereas liars mislead for gain, hypocrites go a step further by deceiving others while seeking praise for their moral virtue. They feign superiority in the process of violating the very principles they profess to uphold. Non-Western states sometimes respond to hypocrisy by seeking retribution. For example, many signatories to the U.S.-led Treaty on the Non-Proliferation of Nuclear Weapons have criticized the United States for hypocritically calling for nuclear disarmament while actively modernizing its nuclear arsenal. Many of these signatories have reacted to U.S. hypocrisy by adopting a rival accord, the Treaty on the Prohibition of Nuclear Weapons, which aims to make nuclear weapons illegal under international law, thereby challenging the United States’ own possession of nuclear weapons. The signatories of both treaties sought to undermine the United States, even when many of them benefited from protection under Washington’s nuclear umbrella. \n",
    "\n",
    "BEWARE OF ANSWERED PRAYERS\n",
    "It is entirely legitimate and appropriate to denounce Western hypocrisy and its nefarious consequences for people around the globe. But those who accuse the United States and its allies of hypocrisy should also recognize that pointing out hypocrisy can lead to positive change.\n",
    "\n",
    "The act of trying to deceive others into thinking that Western foreign policies are guided by principles actually strengthens the principles at hand. When governments publicly make excuses for not acting virtuously, they are conceding that those virtues matter. This forces the hypocrites to, on occasion, mend their ways and start conducting foreign affairs in accordance with their purported principles. For example, criticism of Western hypocrisy played a critical role in ending the slave trade, curbing the use of weapons of mass destruction, and cementing the norms of respecting sovereignty and avoiding intervention.\n",
    "\n",
    "Countries in the global South can shame great powers into changing rules and institutions.\n",
    "The alternative—a world in which great powers do not even bother justifying their actions on the basis of moral values—would be far more harmful to weaker countries. The pretense of virtue among liberal great powers allows for progress because it grants critics an opportunity to denounce hypocrisy and appeal to higher principles in demanding improvements. Countries in the global South can shame great powers into changing rules and institutions for the better.  \n",
    "\n",
    "Those in the global South who shout against Western hypocrisy should also beware of the risk of being hypocritical themselves. Many critics tend to denounce the West selectively, criticizing only those instances of Western hypocrisy that hurt their interests directly but keeping quiet whenever it benefits them. India for decades loudly protested Washington’s refusal to lead a global process to rid the world of nuclear weapons, only to toe the line the minute it secured concessions and signed a civil nuclear agreement with the United States in 2005.\n",
    "\n",
    "Finally, countries in the global South should recognize that too much criticism of hypocrisy can endanger international cooperation by breeding cynicism and political paralysis. Hypocrisy can sometimes be useful. It provides governments a pragmatic way out in situations when valuable principles are in conflict. Take the case of the Inflation Reduction Act introduced by the Biden administration. The law provides subsidies for industries to transition to low carbon energy sources and thereby reflects a commitment to mitigating climate change for the entire planet. But the IRA also violates the norms of free trade that the United States so forcefully applies to others. Hypocrisy in this case allows the White House to proclaim the value of both protecting the planet and maintaining free trade, even if the administration is not able to reconcile the two.\n",
    "\n",
    "A LITTLE HYPOCRISY, WELL DONE\n",
    "Western hypocrisy can be beneficial, as long as it is handled well. This requires policymakers in the Western alliance to get their response right whenever they are confronted with their failure to live up to their moral commitments. Rather than merely reaffirming the value of the principle that they are violating, they should specify measures to comply with it. Such a proactive response has the advantage of showing the world that in the face of criticism, the Western international order is capable of learning, adapting, and evolving.\n",
    "\n",
    "By responding to charges of hypocrisy by doing better in the future, the United States and its allies can prepare for a more competitive and conflictual world. Countries of the global South have rarely accused Beijing of hypocrisy, in part because China has shied away from articulating a coherent vision of international order. But as the country grows more powerful and influential, its policymakers will be forced to present to the world ideas and projects that will require some kind of appeal to virtue and principle. In turn, this will inevitably result in the details of Chinese foreign policy grating against some of the country’s professed values. As its clout in world politics expands, Beijing will increasingly face complaints of hypocrisy. And when that day comes, people the world over may find that hypocritical behavior under the banner of liberal values was not that bad after all.\"\"\".split()\n",
    "\n",
    "# By deriving a set from `raw_text`, we deduplicate the array\n",
    "vocab = set(raw_text)\n",
    "vocab_size = len(vocab)\n",
    "\n",
    "word_to_ix = {word: i for i, word in enumerate(vocab)}\n",
    "ix_to_word = {ix:word for ix, word in enumerate(vocab)}\n",
    "\n",
    "data = []\n",
    "for i in range(CONTEXT_SIZE, len(raw_text) - CONTEXT_SIZE):\n",
    "    context = (\n",
    "        [raw_text[i - j - 1] for j in range(CONTEXT_SIZE)]\n",
    "        + [raw_text[i + j + 1] for j in range(CONTEXT_SIZE)]\n",
    "    )\n",
    "    target = raw_text[i]\n",
    "    data.append((context, target))"
   ]
  },
  {
   "cell_type": "code",
   "execution_count": 48,
   "metadata": {},
   "outputs": [],
   "source": [
    "class CBOW(nn.Module):\n",
    "\n",
    "    def __init__(self, vocab_size, embedding_dim):\n",
    "        super(CBOW, self).__init__()\n",
    "        self.embedding = nn.Embedding(vocab_size,embedding_dim)\n",
    "        self.linear1 = nn.Linear(embedding_dim, 128)\n",
    "        self.activate1 = nn.ReLU()\n",
    "\n",
    "        self.linear2 = nn.Linear(128, vocab_size)\n",
    "        self.activate2 = nn.LogSoftmax(dim=-1)\n",
    "\n",
    "    def forward(self, inputs):\n",
    "        embeds = sum(self.embedding(inputs)).view(1,-1)\n",
    "        out = self.linear1(embeds)\n",
    "        out = self.activate1(out)\n",
    "        out = self.linear2(out)\n",
    "        out = self.activate2(out)\n",
    "        return out\n",
    "    \n",
    "    def get_word_embedding(self, word):\n",
    "        word_idx = torch.tensor([word_to_ix(word)])\n",
    "        return self.embedding(word_idx).view(1,-1)\n"
   ]
  },
  {
   "cell_type": "code",
   "execution_count": 49,
   "metadata": {},
   "outputs": [],
   "source": [
    "model = CBOW(vocab_size, EMDEDDING_DIM)\n",
    "\n",
    "loss_function = nn.NLLLoss()\n",
    "optimizer = torch.optim.SGD(model.parameters(), lr=0.001)"
   ]
  },
  {
   "cell_type": "code",
   "execution_count": null,
   "metadata": {},
   "outputs": [],
   "source": [
    "for epoch in range(500):\n",
    "    total_loss = 0\n",
    "\n",
    "    for context, target in data:\n",
    "        context_vector = make_context_vector(context, word_to_ix)  \n",
    "\n",
    "        log_probs = model(context_vector)\n",
    "\n",
    "        total_loss += loss_function(log_probs, torch.tensor([word_to_ix[target]]))\n",
    "    print(\"Epoc:\", epoch, \", total loss:\", total_loss)\n",
    "    #optimize at the end of each epoch\n",
    "    optimizer.zero_grad()\n",
    "    total_loss.backward()\n",
    "    optimizer.step()"
   ]
  },
  {
   "cell_type": "code",
   "execution_count": null,
   "metadata": {},
   "outputs": [],
   "source": [
    "#TESTING\n",
    "context = ['rarely','accused','of', 'hypocrisy']\n",
    "context_vector = make_context_vector(context, word_to_ix)\n",
    "a = model(context_vector)"
   ]
  },
  {
   "cell_type": "code",
   "execution_count": null,
   "metadata": {},
   "outputs": [],
   "source": [
    "#Print result\n",
    "print(f'Raw text: {\" \".join(raw_text)}\\n')\n",
    "print(f'Context: {context}\\n')\n",
    "print(f'Prediction: {ix_to_word[torch.argmax(a[0]).item()]}')"
   ]
  }
 ],
 "metadata": {
  "kernelspec": {
   "display_name": "pt20",
   "language": "python",
   "name": "python3"
  },
  "language_info": {
   "codemirror_mode": {
    "name": "ipython",
    "version": 3
   },
   "file_extension": ".py",
   "mimetype": "text/x-python",
   "name": "python",
   "nbconvert_exporter": "python",
   "pygments_lexer": "ipython3",
   "version": "3.11.0"
  },
  "orig_nbformat": 4
 },
 "nbformat": 4,
 "nbformat_minor": 2
}
