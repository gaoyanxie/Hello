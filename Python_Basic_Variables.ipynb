{
 "cells": [
  {
   "cell_type": "markdown",
   "id": "94fbba3b",
   "metadata": {},
   "source": [
    "## Python Variables and Parameter Passing"
   ]
  },
  {
   "cell_type": "markdown",
   "id": "b51cd444",
   "metadata": {},
   "source": [
    "In the Python world, everything is an **object**. This includes:\n",
    "    - Variables\n",
    "    - Functions\n",
    "    - Classes\n",
    "    - Parameters\n",
    "    - Literals"
   ]
  },
  {
   "cell_type": "markdown",
   "id": "1085d433",
   "metadata": {},
   "source": [
    "Each objec has a ref count that can be returned by sys.getrefcount(). A built-in function id() returns the unqiue memory address for each object."
   ]
  },
  {
   "cell_type": "code",
   "execution_count": 5,
   "id": "30a0c2d5",
   "metadata": {
    "scrolled": true
   },
   "outputs": [
    {
     "name": "stdout",
     "output_type": "stream",
     "text": [
      "3\n",
      "4\n",
      "140071487393968\n",
      "140071487393968\n",
      "3\n",
      "3\n",
      "2\n",
      "140071487464240\n",
      "140071487393968\n",
      "140071487393968\n"
     ]
    }
   ],
   "source": [
    "import sys\n",
    "\n",
    "str = 'jack'\n",
    "print (sys.getrefcount(str))\n",
    "print (sys.getrefcount('jack'))\n",
    "print (id(str))\n",
    "print (id('jack'))\n",
    "\n",
    "name = str\n",
    "str = 'tom'\n",
    "\n",
    "print (sys.getrefcount(str))\n",
    "print (sys.getrefcount('jack'))\n",
    "print (sys.getrefcount(name))\n",
    "print (id(str))\n",
    "print (id('jack'))\n",
    "print (id(name))"
   ]
  },
  {
   "cell_type": "markdown",
   "id": "e98ed7b7",
   "metadata": {},
   "source": [
    "A namespace (scope) in Python is represented by a dictionary, with each entry (key-value pair) representing a binding of an identifier (name) to an object. locals() and globals() return the local and global namespaces respectively."
   ]
  },
  {
   "cell_type": "code",
   "execution_count": 7,
   "id": "5f26dc1e",
   "metadata": {},
   "outputs": [
    {
     "name": "stdout",
     "output_type": "stream",
     "text": [
      "dict_keys(['__name__', '__doc__', '__package__', '__loader__', '__spec__', '__builtin__', '__builtins__', '_ih', '_oh', '_dh', 'In', 'Out', 'get_ipython', 'exit', 'quit', 'open', '_', '__', '___', '_i', '_ii', '_iii', '_i1', '_i2', '_i3', 'sys', 'str', '_i4', 'name', '_i5', '_i6', '_i7'])\n",
      "dict_keys(['__name__', '__doc__', '__package__', '__loader__', '__spec__', '__builtin__', '__builtins__', '_ih', '_oh', '_dh', 'In', 'Out', 'get_ipython', 'exit', 'quit', 'open', '_', '__', '___', '_i', '_ii', '_iii', '_i1', '_i2', '_i3', 'sys', 'str', '_i4', 'name', '_i5', '_i6', '_i7'])\n"
     ]
    }
   ],
   "source": [
    "print (locals().keys())\n",
    "print (globals().keys())"
   ]
  },
  {
   "cell_type": "markdown",
   "id": "3e7abc51",
   "metadata": {},
   "source": [
    "An assignment in Python does **not** alter the content an object, instead it only changes a binding of its name, but it does affect its refcount"
   ]
  },
  {
   "cell_type": "markdown",
   "id": "c3222586",
   "metadata": {},
   "source": [
    "Parameter passing in Python is essentially **by name**, not by value, not by reference, not by pointer. So don't worry about unnecessary object copy for parameter passing and returning values."
   ]
  },
  {
   "cell_type": "markdown",
   "id": "394baaf9",
   "metadata": {},
   "source": [
    "A function in Python can always read the global namespace, but can only modify a local namespace (unless a global variable is explicitly introduced into the function with the **global** keyword)"
   ]
  }
 ],
 "metadata": {
  "kernelspec": {
   "display_name": "Python 3 (ipykernel)",
   "language": "python",
   "name": "python3"
  },
  "language_info": {
   "codemirror_mode": {
    "name": "ipython",
    "version": 3
   },
   "file_extension": ".py",
   "mimetype": "text/x-python",
   "name": "python",
   "nbconvert_exporter": "python",
   "pygments_lexer": "ipython3",
   "version": "3.10.7"
  }
 },
 "nbformat": 4,
 "nbformat_minor": 5
}
