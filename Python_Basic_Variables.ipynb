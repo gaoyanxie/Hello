{
 "cells": [
  {
   "cell_type": "markdown",
   "id": "2b363005",
   "metadata": {},
   "source": [
    "## Python Variables and Parameter Passing"
   ]
  },
  {
   "cell_type": "markdown",
   "id": "d04c7a62",
   "metadata": {},
   "source": [
    "In the Python world, everything is an **object**. This includes:\n",
    "- Variables\n",
    "- Functions\n",
    "- Classes\n",
    "- Parameters\n",
    "- Literals"
   ]
  },
  {
   "cell_type": "markdown",
   "id": "2fa037aa",
   "metadata": {},
   "source": [
    "Each objec has a ref count that can be returned by sys.getrefcount(). A built-in function id() returns the unqiue memory address for each object. [ref](https://realpython.com/python-pass-by-reference/)"
   ]
  },
  {
   "cell_type": "code",
   "execution_count": 5,
   "id": "b2704d33",
   "metadata": {
    "scrolled": true
   },
   "outputs": [
    {
     "name": "stdout",
     "output_type": "stream",
     "text": [
      "3\n",
      "4\n",
      "140071487393968\n",
      "140071487393968\n",
      "3\n",
      "3\n",
      "2\n",
      "140071487464240\n",
      "140071487393968\n",
      "140071487393968\n"
     ]
    }
   ],
   "source": [
    "import sys\n",
    "\n",
    "str = 'jack'\n",
    "print (sys.getrefcount(str))\n",
    "print (sys.getrefcount('jack'))\n",
    "print (id(str))\n",
    "print (id('jack'))\n",
    "\n",
    "name = str\n",
    "str = 'tom'\n",
    "\n",
    "print (sys.getrefcount(str))\n",
    "print (sys.getrefcount('jack'))\n",
    "print (sys.getrefcount(name))\n",
    "print (id(str))\n",
    "print (id('jack'))\n",
    "print (id(name))"
   ]
  },
  {
   "cell_type": "markdown",
   "id": "8ccabc69",
   "metadata": {},
   "source": [
    "A namespace (scope) in Python is represented by a dictionary, with each entry (key-value pair) representing a binding of an identifier (name) to an object. locals() and globals() return the local and global namespaces respectively."
   ]
  },
  {
   "cell_type": "code",
   "execution_count": 7,
   "id": "009b112c",
   "metadata": {},
   "outputs": [
    {
     "name": "stdout",
     "output_type": "stream",
     "text": [
      "dict_keys(['__name__', '__doc__', '__package__', '__loader__', '__spec__', '__builtin__', '__builtins__', '_ih', '_oh', '_dh', 'In', 'Out', 'get_ipython', 'exit', 'quit', 'open', '_', '__', '___', '_i', '_ii', '_iii', '_i1', '_i2', '_i3', 'sys', 'str', '_i4', 'name', '_i5', '_i6', '_i7'])\n",
      "dict_keys(['__name__', '__doc__', '__package__', '__loader__', '__spec__', '__builtin__', '__builtins__', '_ih', '_oh', '_dh', 'In', 'Out', 'get_ipython', 'exit', 'quit', 'open', '_', '__', '___', '_i', '_ii', '_iii', '_i1', '_i2', '_i3', 'sys', 'str', '_i4', 'name', '_i5', '_i6', '_i7'])\n"
     ]
    }
   ],
   "source": [
    "print (locals().keys())\n",
    "print (globals().keys())"
   ]
  },
  {
   "attachments": {},
   "cell_type": "markdown",
   "id": "e6a99f83",
   "metadata": {},
   "source": [
    "An assignment in Python does **not** alter the content an object, instead it only changes a binding of its name, but it does affect its refcount."
   ]
  },
  {
   "attachments": {},
   "cell_type": "markdown",
   "id": "9c995889",
   "metadata": {},
   "source": [
    "In Python, whether changes made to a variable within a function affect the original variable outside the function depends on the data **type** of the variable. **Immutable** data types, such as integers, floats, and strings, cannot be modified in place, and any modifications made within a function will not affect the original variable outside the function. Mutable data types, such as lists and dictionaries, can be modified in place, and any modifications made within a function will affect the original variable outside the function."
   ]
  },
  {
   "cell_type": "markdown",
   "id": "c219d453",
   "metadata": {},
   "source": [
    "Parameter passing in Python is essentially **by name**, not by value, not by reference, not by pointer. So don't worry about unnecessary object copy for parameter passing and returning values."
   ]
  },
  {
   "cell_type": "markdown",
   "id": "efcec6ef",
   "metadata": {},
   "source": [
    "A function in Python can always read the global namespace, but can only modify a local namespace (unless a global variable is explicitly introduced into the function with the **global** keyword)"
   ]
  },
  {
   "cell_type": "code",
   "execution_count": null,
   "id": "d3d4f1fc",
   "metadata": {},
   "outputs": [],
   "source": []
  }
 ],
 "metadata": {
  "kernelspec": {
   "display_name": "Python 3 (ipykernel)",
   "language": "python",
   "name": "python3"
  },
  "language_info": {
   "codemirror_mode": {
    "name": "ipython",
    "version": 3
   },
   "file_extension": ".py",
   "mimetype": "text/x-python",
   "name": "python",
   "nbconvert_exporter": "python",
   "pygments_lexer": "ipython3",
   "version": "3.10.7"
  }
 },
 "nbformat": 4,
 "nbformat_minor": 5
}
