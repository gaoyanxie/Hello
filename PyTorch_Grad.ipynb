{
  "nbformat": 4,
  "nbformat_minor": 0,
  "metadata": {
    "colab": {
      "provenance": [],
      "toc_visible": true,
      "gpuType": "T4",
      "authorship_tag": "ABX9TyM4Uv2YxM+YBeELUl6Jcjmk",
      "include_colab_link": true
    },
    "kernelspec": {
      "name": "python3",
      "display_name": "Python 3"
    },
    "language_info": {
      "name": "python"
    },
    "accelerator": "GPU",
    "gpuClass": "standard"
  },
  "cells": [
    {
      "cell_type": "markdown",
      "metadata": {
        "id": "view-in-github",
        "colab_type": "text"
      },
      "source": [
        "<a href=\"https://colab.research.google.com/github/gaoyanxie/Hello/blob/master/PyTorch_Grad.ipynb\" target=\"_parent\"><img src=\"https://colab.research.google.com/assets/colab-badge.svg\" alt=\"Open In Colab\"/></a>"
      ]
    },
    {
      "cell_type": "code",
      "execution_count": 1,
      "metadata": {
        "id": "VXCXqqvlTuld"
      },
      "outputs": [],
      "source": [
        "import torch"
      ]
    },
    {
      "cell_type": "code",
      "source": [
        "print(torch.cuda.is_available())"
      ],
      "metadata": {
        "colab": {
          "base_uri": "https://localhost:8080/"
        },
        "id": "UxJuvuIOaIxv",
        "outputId": "85ae078a-e350-4eb1-b4ca-bf887c158668"
      },
      "execution_count": 2,
      "outputs": [
        {
          "output_type": "stream",
          "name": "stdout",
          "text": [
            "True\n"
          ]
        }
      ]
    },
    {
      "cell_type": "code",
      "source": [
        "in_data = [[1.,2.],[3.,4.]]\n",
        "in_tensor = torch.tensor(in_data)\n",
        "w_data = [[1.,2],[1.1,2.2],[1.3,2.3],[1.4,2.4]]\n",
        "w_tensor = torch.tensor(w_data)\n",
        "out_data = [[2.,4,2,4],[6.,8,6,8]]\n",
        "out_tensor = torch.tensor(out_data)\n",
        "\n",
        "class MyModel(torch.nn.Module):\n",
        "  def __init__(self):\n",
        "    super(MyModel, self).__init__()\n",
        "    self.wo = torch.nn.Linear(2,2) #torch.nn.Sigmoid()\n",
        "    self.fc = torch.nn.Linear(2, 4)#torch.matmul \n",
        "  def forward(self, x, w):\n",
        "    w_out = self.wo(w)\n",
        "    #w_out = torch.transpose(w_out, 0, 1)\n",
        "    weight = torch.nn.Parameter(w_out)\n",
        "    self.fc.weight = weight\n",
        "    out = self.fc(x)#self.fc(x, self.weight)\n",
        "    return out\n",
        "\n",
        "m = MyModel()    \n",
        "#print(m.fc.weight)\n",
        "pred = m(in_tensor, w_tensor)\n",
        "loss = (out_tensor - pred).sum()\n",
        "print(m.wo.weight)\n",
        "print(m.fc.weight)\n",
        "print(loss)\n",
        "#print(m.fc.weight)\n",
        "loss.backward()\n",
        "print(m.wo.weight.grad)\n",
        "print(m.fc.weight.grad)"
      ],
      "metadata": {
        "colab": {
          "base_uri": "https://localhost:8080/"
        },
        "id": "cdL2mRwSauN9",
        "outputId": "14fa1d12-a662-4556-a8a9-768b2f8206d8"
      },
      "execution_count": 36,
      "outputs": [
        {
          "output_type": "stream",
          "name": "stdout",
          "text": [
            "Parameter containing:\n",
            "tensor([[-0.0259, -0.1394],\n",
            "        [ 0.2041,  0.1205]], requires_grad=True)\n",
            "Parameter containing:\n",
            "tensor([[0.1001, 0.3866],\n",
            "        [0.0696, 0.4311],\n",
            "        [0.0505, 0.4840],\n",
            "        [0.0340, 0.5165]], requires_grad=True)\n",
            "tensor(29.3354, grad_fn=<SumBackward0>)\n",
            "None\n",
            "tensor([[-4., -6.],\n",
            "        [-4., -6.],\n",
            "        [-4., -6.],\n",
            "        [-4., -6.]])\n"
          ]
        }
      ]
    },
    {
      "cell_type": "code",
      "source": [
        "optim = torch.optim.SGD(m.parameters(), lr=1e-2, momentum=0.9)\n",
        "optim.step()\n",
        "print(m.wo.weight)"
      ],
      "metadata": {
        "colab": {
          "base_uri": "https://localhost:8080/"
        },
        "id": "3afCodUehEro",
        "outputId": "75427ea4-ed50-471b-bdd7-9f8a5fedb272"
      },
      "execution_count": 30,
      "outputs": [
        {
          "output_type": "stream",
          "name": "stdout",
          "text": [
            "Parameter containing:\n",
            "tensor([[0.3026, 0.5287],\n",
            "        [0.1818, 1.0705]], requires_grad=True)\n"
          ]
        }
      ]
    },
    {
      "cell_type": "code",
      "source": [
        "pred = m(in_tensor, w_tensor)\n",
        "loss = (out_tensor - pred).sum()\n",
        "print(m.weight)\n",
        "print(loss)\n",
        "loss.backward()\n",
        "print(m.wo.weight.grad)"
      ],
      "metadata": {
        "colab": {
          "base_uri": "https://localhost:8080/"
        },
        "id": "cO3XzEVepeHD",
        "outputId": "91ff3fe3-e202-49d6-9888-aea9febd3979"
      },
      "execution_count": 31,
      "outputs": [
        {
          "output_type": "stream",
          "name": "stdout",
          "text": [
            "tensor([[2.1148, 2.2508, 2.3642, 2.4473],\n",
            "        [2.8270, 3.0593, 3.2027, 3.3280]], grad_fn=<TransposeBackward0>)\n",
            "tensor(-71.2105, grad_fn=<SumBackward0>)\n",
            "tensor([[ -38.4000,  -71.2000],\n",
            "        [ -57.6000, -106.8000]])\n"
          ]
        }
      ]
    },
    {
      "cell_type": "code",
      "source": [
        "optim.step()\n",
        "print(m.wo.weight)"
      ],
      "metadata": {
        "colab": {
          "base_uri": "https://localhost:8080/"
        },
        "id": "_GSvcRAzq7Zq",
        "outputId": "b9cf171a-4088-42d5-a394-ee230f2a7ed7"
      },
      "execution_count": 32,
      "outputs": [
        {
          "output_type": "stream",
          "name": "stdout",
          "text": [
            "Parameter containing:\n",
            "tensor([[0.8594, 1.5611],\n",
            "        [1.0170, 2.6191]], requires_grad=True)\n"
          ]
        }
      ]
    },
    {
      "cell_type": "code",
      "source": [
        "pred = m(in_tensor, w_tensor)\n",
        "loss = (out_tensor - pred).sum()\n",
        "print(m.weight)\n",
        "print(loss)\n",
        "loss.backward()\n",
        "print(m.wo.weight.grad)"
      ],
      "metadata": {
        "colab": {
          "base_uri": "https://localhost:8080/"
        },
        "id": "qwccrcqxry90",
        "outputId": "bd57e07f-9231-4d2b-d45b-0d3bcb8269ee"
      },
      "execution_count": 33,
      "outputs": [
        {
          "output_type": "stream",
          "name": "stdout",
          "text": [
            "tensor([[5.2004, 5.5985, 5.9265, 6.1686],\n",
            "        [7.4554, 8.0810, 8.5463, 8.9099]], grad_fn=<TransposeBackward0>)\n",
            "tensor(-249.5315, grad_fn=<SumBackward0>)\n",
            "tensor([[ -57.6000, -106.8000],\n",
            "        [ -86.4000, -160.2000]])\n"
          ]
        }
      ]
    }
  ]
}